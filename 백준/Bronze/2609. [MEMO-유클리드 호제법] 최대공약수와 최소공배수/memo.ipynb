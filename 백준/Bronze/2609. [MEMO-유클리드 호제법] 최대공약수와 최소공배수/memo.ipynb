{
 "cells": [
  {
   "cell_type": "markdown",
   "metadata": {},
   "source": [
    "## 유클리드 호제법\n",
    "\n",
    "두 양의 정수 a, b(a> b)에 대하여 a를 b로 나눈 나머지를 r(0 <= r < b)이라 하면, a, b의 최대공약수는 b, r의 최대공약수와 같다. r = 0이라면, a, b의 최대공약수는 b다.\n",
    "\n",
    "\n",
    "- 최대공약수: 이에 따라, b를 r로 나눈 나머지 r'를 구하고 다시 r을 r'로 나눈 나머지를 구하는 과정을 반복하면, 나머지가 0이 되었을 때의 나누는 수가 a와 b의 최대공약수다.\n",
    "\n",
    "```py\n",
    "def gcd(a, b): # a > b\n",
    "    while b > 0:\n",
    "        a, b = b, a % b\n",
    "    return a\n",
    "```\n",
    "\n",
    "- 최소공배수: a와 b의 최소공배수는 a와 b의 곱을 a와 b의 최대공약수로 나눈 것과 같다.\n",
    "\n",
    "```py\n",
    "def lcm(a, b):\n",
    "    return a * b / gcd(a, b)\n",
    "```\n",
    "\n",
    "## math.gcd(), math.lcm()\n",
    "파이썬 math 라이브러리에 최대공약수와 최소공배수를 구하는 함수가 내장되어 있다.\n",
    "\n",
    "```py\n",
    "import math\n",
    "a, b = map(int, input().split())\n",
    "print(math.gcd(a, b), math.lcm(a, b)) # 각각 최대공약수, 최소공배수\n",
    "```"
   ]
  }
 ],
 "metadata": {
  "language_info": {
   "name": "python"
  }
 },
 "nbformat": 4,
 "nbformat_minor": 2
}
